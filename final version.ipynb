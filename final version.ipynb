{
 "cells": [
  {
   "cell_type": "markdown",
   "id": "58d26594-9f4d-4541-852b-a2842acdd780",
   "metadata": {},
   "source": [
    "# PRATIQUES (PARTIE I)\n",
    "## PHASE 2 : APPLICATIONS SCIENTIFIQUES ET ENTREPRENEURIALES (I)"
   ]
  },
  {
   "cell_type": "markdown",
   "id": "afe84357-970d-4c7d-9d0d-b093d2d39e9d",
   "metadata": {},
   "source": [
    "## Préliminaire"
   ]
  },
  {
   "cell_type": "markdown",
   "id": "9b0bbbee-3d51-4b82-a3f3-d5e51cd1b073",
   "metadata": {},
   "source": [
    "- Commences par décompresser le fichier dump.tar. Tu obtiendra un dossier dump constitué de deux autres dossiers.\n",
    "\n",
    "- Récupère les données de CDS16 dans Mongodb\n",
    "mongorestore --uri=\"mongodb://localhost:27017\" dump. Ceci va créer deux bases de données dans MongoDB CDS16 et CDS29. Dans notre cas, nous allons utiliser CDS16.\n",
    "\n",
    "- pour vérifier, dans le shell de MongoDB, exécutes :\n",
    "\n",
    "&gt; show dbs ==> Tu verra CDS16 et CDS29\n",
    "\n",
    "- Pour explorter la base de données vers un fichier csv, dans le shell CMD, exécutes :\n",
    "\n",
    "&gt; mongoexport --uri=\"mongodb://localhost:27017\" --db=CDS16 --collection=molecules --type=csv --out=molecules.csv --fields=_id, smile, ...."
   ]
  },
  {
   "cell_type": "markdown",
   "id": "51bafa08-b51e-4409-92c8-015935046374",
   "metadata": {},
   "source": [
    "## Importer les modules nécessaires"
   ]
  },
  {
   "cell_type": "markdown",
   "id": "b1b7d844-d1a7-44aa-a932-175cecde4969",
   "metadata": {},
   "source": [
    "Nous commençons par importer les bibliothèques à utiliser :\n",
    "\n",
    "- Pandas\n",
    "- Quelques Classifieurs : SVM, LogisticRegression et HistGradientBoostingClassifier\n",
    "- train_test_split : pour diviser le dataset en données d'entraînement et données de test\n",
    "- Quelques métriques : accuracy, GMEAN, Kappa et ROC"
   ]
  },
  {
   "cell_type": "code",
   "execution_count": 219,
   "id": "966eaca8-54be-4c40-9fe2-0d770fe7c671",
   "metadata": {},
   "outputs": [],
   "source": [
    "#Importer les bibliothèques nécessaires\n",
    "import pandas as pd\n",
    "from sklearn.svm import SVC\n",
    "from sklearn.linear_model import LogisticRegression\n",
    "#Cet algorithme supporte les valeurs nulles\n",
    "from sklearn.ensemble import HistGradientBoostingClassifier\n",
    "from sklearn.model_selection import train_test_split\n",
    "from sklearn.metrics import accuracy_score\n",
    "from imblearn.metrics import geometric_mean_score #for GMEAN\n",
    "from sklearn.metrics import cohen_kappa_score #for Kappa\n",
    "from sklearn.metrics import roc_auc_score #for ROC"
   ]
  },
  {
   "cell_type": "markdown",
   "id": "30f3ff2d-2587-4c32-a759-78f557973c3b",
   "metadata": {},
   "source": [
    "## Récupération du dataset"
   ]
  },
  {
   "cell_type": "markdown",
   "id": "4dc87657-35bf-47b2-9540-f201010371a5",
   "metadata": {},
   "source": [
    "Une fois les modules importés, on commence par récupérer les données à partir du fichiers csv que nous avons obtenu à partir de la base de données MongoDB"
   ]
  },
  {
   "cell_type": "code",
   "execution_count": 222,
   "id": "02072239-b890-4f9e-b57f-18ca69e42720",
   "metadata": {},
   "outputs": [
    {
     "data": {
      "text/plain": [
       "(82, 88)"
      ]
     },
     "execution_count": 222,
     "metadata": {},
     "output_type": "execute_result"
    }
   ],
   "source": [
    "molecules = pd.read_csv(\"molecules.csv\")\n",
    "molecules.shape"
   ]
  },
  {
   "cell_type": "markdown",
   "id": "b34e8539-474d-464e-8cf5-8f41a3067765",
   "metadata": {},
   "source": [
    "Comme nous pouvons le remarquer, notre dataset est constitué de 82 echantillons. Chaque echantillon est caractérisé de 88 features (colonnes). Pour voir les colonnes, on exécute la commande suivante :"
   ]
  },
  {
   "cell_type": "code",
   "execution_count": 224,
   "id": "e024f751-aee3-4432-b8c8-84413e700942",
   "metadata": {},
   "outputs": [
    {
     "data": {
      "text/plain": [
       "Index(['_id', 'smiles', 'class', 'MOLECULEID', 'rdmol', 'mfp.bits[0]',\n",
       "       'mfp.bits[1]', 'mfp.bits[2]', 'mfp.bits[3]', 'mfp.bits[4]',\n",
       "       'mfp.bits[5]', 'mfp.bits[6]', 'mfp.bits[7]', 'mfp.bits[8]',\n",
       "       'mfp.bits[9]', 'mfp.bits[10]', 'mfp.bits[11]', 'mfp.bits[12]',\n",
       "       'mfp.bits[13]', 'mfp.bits[14]', 'mfp.bits[15]', 'mfp.bits[16]',\n",
       "       'mfp.bits[17]', 'mfp.bits[18]', 'mfp.bits[19]', 'mfp.bits[20]',\n",
       "       'mfp.bits[21]', 'mfp.bits[22]', 'mfp.bits[23]', 'mfp.bits[24]',\n",
       "       'mfp.bits[25]', 'mfp.bits[26]', 'mfp.bits[27]', 'mfp.bits[28]',\n",
       "       'mfp.bits[29]', 'mfp.bits[30]', 'mfp.bits[31]', 'mfp.bits[32]',\n",
       "       'mfp.bits[33]', 'mfp.bits[34]', 'mfp.bits[35]', 'mfp.bits[36]',\n",
       "       'mfp.bits[37]', 'mfp.bits[38]', 'mfp.bits[39]', 'mfp.bits[40]',\n",
       "       'mfp.bits[41]', 'mfp.bits[42]', 'mfp.bits[43]', 'mfp.bits[44]',\n",
       "       'mfp.bits[45]', 'mfp.bits[46]', 'mfp.bits[47]', 'mfp.bits[48]',\n",
       "       'mfp.bits[49]', 'mfp.bits[50]', 'mfp.bits[51]', 'mfp.bits[52]',\n",
       "       'mfp.bits[53]', 'mfp.bits[54]', 'mfp.bits[55]', 'mfp.bits[56]',\n",
       "       'mfp.bits[57]', 'mfp.bits[58]', 'mfp.bits[59]', 'mfp.bits[60]',\n",
       "       'mfp.bits[61]', 'mfp.bits[62]', 'mfp.bits[63]', 'mfp.bits[64]',\n",
       "       'mfp.bits[65]', 'mfp.bits[66]', 'mfp.bits[67]', 'mfp.bits[68]',\n",
       "       'mfp.bits[69]', 'mfp.bits[70]', 'mfp.bits[71]', 'mfp.bits[72]',\n",
       "       'mfp.bits[73]', 'mfp.bits[74]', 'mfp.bits[75]', 'mfp.bits[76]',\n",
       "       'mfp.bits[77]', 'mfp.bits[78]', 'mfp.bits[79]', 'mfp.bits[80]',\n",
       "       'mfp.bits[81]', 'mfp.count'],\n",
       "      dtype='object')"
      ]
     },
     "execution_count": 224,
     "metadata": {},
     "output_type": "execute_result"
    }
   ],
   "source": [
    "molecules.columns"
   ]
  },
  {
   "cell_type": "markdown",
   "id": "ba5dd791-0d0b-4d1a-977d-d1fdc9e8c0f7",
   "metadata": {},
   "source": [
    "Pour avoir une idée sur les données, on peut exécuter la commande suivante qui affiche les 5 premières lignes :"
   ]
  },
  {
   "cell_type": "code",
   "execution_count": 226,
   "id": "a8bcb390-f10a-44c8-9520-91b4c79e8813",
   "metadata": {},
   "outputs": [
    {
     "data": {
      "text/html": [
       "<div>\n",
       "<style scoped>\n",
       "    .dataframe tbody tr th:only-of-type {\n",
       "        vertical-align: middle;\n",
       "    }\n",
       "\n",
       "    .dataframe tbody tr th {\n",
       "        vertical-align: top;\n",
       "    }\n",
       "\n",
       "    .dataframe thead th {\n",
       "        text-align: right;\n",
       "    }\n",
       "</style>\n",
       "<table border=\"1\" class=\"dataframe\">\n",
       "  <thead>\n",
       "    <tr style=\"text-align: right;\">\n",
       "      <th></th>\n",
       "      <th>_id</th>\n",
       "      <th>smiles</th>\n",
       "      <th>class</th>\n",
       "      <th>MOLECULEID</th>\n",
       "      <th>rdmol</th>\n",
       "      <th>mfp.bits[0]</th>\n",
       "      <th>mfp.bits[1]</th>\n",
       "      <th>mfp.bits[2]</th>\n",
       "      <th>mfp.bits[3]</th>\n",
       "      <th>mfp.bits[4]</th>\n",
       "      <th>...</th>\n",
       "      <th>mfp.bits[73]</th>\n",
       "      <th>mfp.bits[74]</th>\n",
       "      <th>mfp.bits[75]</th>\n",
       "      <th>mfp.bits[76]</th>\n",
       "      <th>mfp.bits[77]</th>\n",
       "      <th>mfp.bits[78]</th>\n",
       "      <th>mfp.bits[79]</th>\n",
       "      <th>mfp.bits[80]</th>\n",
       "      <th>mfp.bits[81]</th>\n",
       "      <th>mfp.count</th>\n",
       "    </tr>\n",
       "  </thead>\n",
       "  <tbody>\n",
       "    <tr>\n",
       "      <th>0</th>\n",
       "      <td>1.0</td>\n",
       "      <td>Nc1nc2c(ncn2C2OC(CO)C(O)C2O)c(=O)[nH]1</td>\n",
       "      <td>Inactive</td>\n",
       "      <td>M18965</td>\n",
       "      <td>776t3gAAAAALAAAAAAAAAAAAAAAUAAAAFgAAAIABCABgAA...</td>\n",
       "      <td>71</td>\n",
       "      <td>75</td>\n",
       "      <td>80</td>\n",
       "      <td>90</td>\n",
       "      <td>128</td>\n",
       "      <td>...</td>\n",
       "      <td>NaN</td>\n",
       "      <td>NaN</td>\n",
       "      <td>NaN</td>\n",
       "      <td>NaN</td>\n",
       "      <td>NaN</td>\n",
       "      <td>NaN</td>\n",
       "      <td>NaN</td>\n",
       "      <td>NaN</td>\n",
       "      <td>NaN</td>\n",
       "      <td>43</td>\n",
       "    </tr>\n",
       "    <tr>\n",
       "      <th>1</th>\n",
       "      <td>2.0</td>\n",
       "      <td>Cc1cn(-c2cc(NC(=O)c3ccc(C)c(Nc4nccc(-c5cccnc5)...</td>\n",
       "      <td>Inactive</td>\n",
       "      <td>M413388</td>\n",
       "      <td>776t3gAAAAALAAAAAAAAAAAAAAAnAAAAKwAAAIABBwBoAA...</td>\n",
       "      <td>19</td>\n",
       "      <td>33</td>\n",
       "      <td>61</td>\n",
       "      <td>64</td>\n",
       "      <td>84</td>\n",
       "      <td>...</td>\n",
       "      <td>NaN</td>\n",
       "      <td>NaN</td>\n",
       "      <td>NaN</td>\n",
       "      <td>NaN</td>\n",
       "      <td>NaN</td>\n",
       "      <td>NaN</td>\n",
       "      <td>NaN</td>\n",
       "      <td>NaN</td>\n",
       "      <td>NaN</td>\n",
       "      <td>69</td>\n",
       "    </tr>\n",
       "    <tr>\n",
       "      <th>2</th>\n",
       "      <td>3.0</td>\n",
       "      <td>O=C(O)CC(O)CC(O)C=Cc1c(C2CC2)nc2ccccc2c1-c1ccc...</td>\n",
       "      <td>Inactive</td>\n",
       "      <td>M3412451</td>\n",
       "      <td>776t3gAAAAALAAAAAAAAAAAAAAAfAAAAIgAAAIABCABoAA...</td>\n",
       "      <td>1</td>\n",
       "      <td>25</td>\n",
       "      <td>64</td>\n",
       "      <td>73</td>\n",
       "      <td>80</td>\n",
       "      <td>...</td>\n",
       "      <td>NaN</td>\n",
       "      <td>NaN</td>\n",
       "      <td>NaN</td>\n",
       "      <td>NaN</td>\n",
       "      <td>NaN</td>\n",
       "      <td>NaN</td>\n",
       "      <td>NaN</td>\n",
       "      <td>NaN</td>\n",
       "      <td>NaN</td>\n",
       "      <td>55</td>\n",
       "    </tr>\n",
       "    <tr>\n",
       "      <th>3</th>\n",
       "      <td>4.0</td>\n",
       "      <td>O=C1CC(O)CC(C=Cc2c(C3CC3)nc3ccccc3c2-c2ccc(F)c...</td>\n",
       "      <td>Inactive</td>\n",
       "      <td>M97340488</td>\n",
       "      <td>776t3gAAAAALAAAAAAAAAAAAAAAeAAAAIgAAAIABCABgAA...</td>\n",
       "      <td>64</td>\n",
       "      <td>73</td>\n",
       "      <td>80</td>\n",
       "      <td>90</td>\n",
       "      <td>105</td>\n",
       "      <td>...</td>\n",
       "      <td>NaN</td>\n",
       "      <td>NaN</td>\n",
       "      <td>NaN</td>\n",
       "      <td>NaN</td>\n",
       "      <td>NaN</td>\n",
       "      <td>NaN</td>\n",
       "      <td>NaN</td>\n",
       "      <td>NaN</td>\n",
       "      <td>NaN</td>\n",
       "      <td>54</td>\n",
       "    </tr>\n",
       "    <tr>\n",
       "      <th>4</th>\n",
       "      <td>5.0</td>\n",
       "      <td>Cc1nnc(C(=O)NC(C)(C)c2nc(C(=O)NCc3ccc(F)cc3)c(...</td>\n",
       "      <td>Inactive</td>\n",
       "      <td>M409346</td>\n",
       "      <td>776t3gAAAAALAAAAAAAAAAAAAAAgAAAAIgAAAIABCABoAA...</td>\n",
       "      <td>26</td>\n",
       "      <td>33</td>\n",
       "      <td>80</td>\n",
       "      <td>90</td>\n",
       "      <td>114</td>\n",
       "      <td>...</td>\n",
       "      <td>NaN</td>\n",
       "      <td>NaN</td>\n",
       "      <td>NaN</td>\n",
       "      <td>NaN</td>\n",
       "      <td>NaN</td>\n",
       "      <td>NaN</td>\n",
       "      <td>NaN</td>\n",
       "      <td>NaN</td>\n",
       "      <td>NaN</td>\n",
       "      <td>57</td>\n",
       "    </tr>\n",
       "  </tbody>\n",
       "</table>\n",
       "<p>5 rows × 88 columns</p>\n",
       "</div>"
      ],
      "text/plain": [
       "   _id                                             smiles     class  \\\n",
       "0  1.0             Nc1nc2c(ncn2C2OC(CO)C(O)C2O)c(=O)[nH]1  Inactive   \n",
       "1  2.0  Cc1cn(-c2cc(NC(=O)c3ccc(C)c(Nc4nccc(-c5cccnc5)...  Inactive   \n",
       "2  3.0  O=C(O)CC(O)CC(O)C=Cc1c(C2CC2)nc2ccccc2c1-c1ccc...  Inactive   \n",
       "3  4.0  O=C1CC(O)CC(C=Cc2c(C3CC3)nc3ccccc3c2-c2ccc(F)c...  Inactive   \n",
       "4  5.0  Cc1nnc(C(=O)NC(C)(C)c2nc(C(=O)NCc3ccc(F)cc3)c(...  Inactive   \n",
       "\n",
       "  MOLECULEID                                              rdmol  mfp.bits[0]  \\\n",
       "0     M18965  776t3gAAAAALAAAAAAAAAAAAAAAUAAAAFgAAAIABCABgAA...           71   \n",
       "1    M413388  776t3gAAAAALAAAAAAAAAAAAAAAnAAAAKwAAAIABBwBoAA...           19   \n",
       "2   M3412451  776t3gAAAAALAAAAAAAAAAAAAAAfAAAAIgAAAIABCABoAA...            1   \n",
       "3  M97340488  776t3gAAAAALAAAAAAAAAAAAAAAeAAAAIgAAAIABCABgAA...           64   \n",
       "4    M409346  776t3gAAAAALAAAAAAAAAAAAAAAgAAAAIgAAAIABCABoAA...           26   \n",
       "\n",
       "   mfp.bits[1]  mfp.bits[2]  mfp.bits[3]  mfp.bits[4]  ...  mfp.bits[73]  \\\n",
       "0           75           80           90          128  ...           NaN   \n",
       "1           33           61           64           84  ...           NaN   \n",
       "2           25           64           73           80  ...           NaN   \n",
       "3           73           80           90          105  ...           NaN   \n",
       "4           33           80           90          114  ...           NaN   \n",
       "\n",
       "   mfp.bits[74]  mfp.bits[75]  mfp.bits[76]  mfp.bits[77]  mfp.bits[78]  \\\n",
       "0           NaN           NaN           NaN           NaN           NaN   \n",
       "1           NaN           NaN           NaN           NaN           NaN   \n",
       "2           NaN           NaN           NaN           NaN           NaN   \n",
       "3           NaN           NaN           NaN           NaN           NaN   \n",
       "4           NaN           NaN           NaN           NaN           NaN   \n",
       "\n",
       "   mfp.bits[79]  mfp.bits[80]  mfp.bits[81]  mfp.count  \n",
       "0           NaN           NaN           NaN         43  \n",
       "1           NaN           NaN           NaN         69  \n",
       "2           NaN           NaN           NaN         55  \n",
       "3           NaN           NaN           NaN         54  \n",
       "4           NaN           NaN           NaN         57  \n",
       "\n",
       "[5 rows x 88 columns]"
      ]
     },
     "execution_count": 226,
     "metadata": {},
     "output_type": "execute_result"
    }
   ],
   "source": [
    "molecules.head()"
   ]
  },
  {
   "cell_type": "markdown",
   "id": "4a2336a6-e1eb-4496-82c7-64c6209cc50b",
   "metadata": {},
   "source": [
    "## Préparation des données"
   ]
  },
  {
   "attachments": {},
   "cell_type": "markdown",
   "id": "660c7340-adb5-476e-b2b6-fc3234773e04",
   "metadata": {},
   "source": [
    "Puisque nous voulons que toutes les colonnes où toutes les valeurs sont ‘0’ peuvent être supprimées, on va afficher ces colonnes :"
   ]
  },
  {
   "cell_type": "code",
   "execution_count": 229,
   "id": "11b36a77-b97b-4932-8e77-c8c6e4705ba7",
   "metadata": {},
   "outputs": [],
   "source": [
    "#Les colonnes contenant seulement les zéros\n",
    "for col in molecules.columns:\n",
    "    if molecules[col].isnull().all():\n",
    "        print(col)"
   ]
  },
  {
   "cell_type": "markdown",
   "id": "88a8d895-3283-441c-acdd-a89ef2222cd4",
   "metadata": {},
   "source": [
    "On peut remarquer qu'aucune colonne ne contient que des '0'"
   ]
  },
  {
   "cell_type": "markdown",
   "id": "3672501d-6a8a-4c63-92ed-81e976b66468",
   "metadata": {},
   "source": [
    "Maintenant, nous allons remplacer dans la colonne 'class' la valeur 'Active' par '1' et 'Inactive' par '0'"
   ]
  },
  {
   "cell_type": "code",
   "execution_count": 232,
   "id": "e089250e-7b05-4f93-8481-f26057c65036",
   "metadata": {},
   "outputs": [
    {
     "name": "stderr",
     "output_type": "stream",
     "text": [
      "/var/folders/1j/29251qc56dq87mm8rz7wj6kw0000gn/T/ipykernel_1279/2694727241.py:1: FutureWarning: Downcasting behavior in `replace` is deprecated and will be removed in a future version. To retain the old behavior, explicitly call `result.infer_objects(copy=False)`. To opt-in to the future behavior, set `pd.set_option('future.no_silent_downcasting', True)`\n",
      "  molecules['class'] = molecules['class'].replace({'Active': 1, 'Inactive': 0})\n"
     ]
    }
   ],
   "source": [
    "molecules['class'] = molecules['class'].replace({'Active': 1, 'Inactive': 0})"
   ]
  },
  {
   "cell_type": "markdown",
   "id": "2157f994-a8bd-4f56-ba52-af6ae697b76b",
   "metadata": {},
   "source": [
    "L'instruction suivante permet de garder seulement les variables prédictives qui représentent l'empreinte moléculaire de chaque composé."
   ]
  },
  {
   "cell_type": "code",
   "execution_count": 234,
   "id": "9ae24794-803f-4bf1-8e8a-6b491e0324c8",
   "metadata": {},
   "outputs": [],
   "source": [
    "#Garder les variables prédictives qui représentent l'empreinte moléculaire de chaque composé. \n",
    "molecules.drop(columns=['_id', 'smiles', 'MOLECULEID', 'rdmol','mfp.count'], inplace=True)"
   ]
  },
  {
   "cell_type": "code",
   "execution_count": 235,
   "id": "494516e0-dab4-48d9-a575-dd0a6b6873e7",
   "metadata": {},
   "outputs": [
    {
     "data": {
      "text/plain": [
       "(82, 83)"
      ]
     },
     "execution_count": 235,
     "metadata": {},
     "output_type": "execute_result"
    }
   ],
   "source": [
    "molecules.shape"
   ]
  },
  {
   "cell_type": "markdown",
   "id": "10b4110f-19da-4ad1-9d64-5bb5ed80d194",
   "metadata": {},
   "source": [
    "La nouvelle structure de notre dataset montre qu'il nous reste seulement 83 features (colonnes)"
   ]
  },
  {
   "cell_type": "markdown",
   "id": "4c36dcd6-06ff-4984-b6c1-b27cc80cdc94",
   "metadata": {},
   "source": [
    "L'étape suivante est diviser les données (dataset) en une partie représentant le 'Data' et une partie représentant 'Target'"
   ]
  },
  {
   "cell_type": "code",
   "execution_count": 238,
   "id": "ab774592-cbdd-48b5-a17b-868dd47f8425",
   "metadata": {},
   "outputs": [],
   "source": [
    "#A partir du dataset séparer les variables prédictives et de la classe\n",
    "X = molecules.drop('class', axis=1)\n",
    "y = molecules['class']"
   ]
  },
  {
   "cell_type": "markdown",
   "id": "fc02d5c7-2409-4501-accb-0b778c3111ce",
   "metadata": {},
   "source": [
    "On peut afficher quelques données de X et y"
   ]
  },
  {
   "cell_type": "code",
   "execution_count": 240,
   "id": "50e8c8a7-cdff-4335-b8bc-e8cd02a5b951",
   "metadata": {},
   "outputs": [
    {
     "data": {
      "text/html": [
       "<div>\n",
       "<style scoped>\n",
       "    .dataframe tbody tr th:only-of-type {\n",
       "        vertical-align: middle;\n",
       "    }\n",
       "\n",
       "    .dataframe tbody tr th {\n",
       "        vertical-align: top;\n",
       "    }\n",
       "\n",
       "    .dataframe thead th {\n",
       "        text-align: right;\n",
       "    }\n",
       "</style>\n",
       "<table border=\"1\" class=\"dataframe\">\n",
       "  <thead>\n",
       "    <tr style=\"text-align: right;\">\n",
       "      <th></th>\n",
       "      <th>mfp.bits[0]</th>\n",
       "      <th>mfp.bits[1]</th>\n",
       "      <th>mfp.bits[2]</th>\n",
       "      <th>mfp.bits[3]</th>\n",
       "      <th>mfp.bits[4]</th>\n",
       "      <th>mfp.bits[5]</th>\n",
       "      <th>mfp.bits[6]</th>\n",
       "      <th>mfp.bits[7]</th>\n",
       "      <th>mfp.bits[8]</th>\n",
       "      <th>mfp.bits[9]</th>\n",
       "      <th>...</th>\n",
       "      <th>mfp.bits[72]</th>\n",
       "      <th>mfp.bits[73]</th>\n",
       "      <th>mfp.bits[74]</th>\n",
       "      <th>mfp.bits[75]</th>\n",
       "      <th>mfp.bits[76]</th>\n",
       "      <th>mfp.bits[77]</th>\n",
       "      <th>mfp.bits[78]</th>\n",
       "      <th>mfp.bits[79]</th>\n",
       "      <th>mfp.bits[80]</th>\n",
       "      <th>mfp.bits[81]</th>\n",
       "    </tr>\n",
       "  </thead>\n",
       "  <tbody>\n",
       "    <tr>\n",
       "      <th>0</th>\n",
       "      <td>71</td>\n",
       "      <td>75</td>\n",
       "      <td>80</td>\n",
       "      <td>90</td>\n",
       "      <td>128</td>\n",
       "      <td>147</td>\n",
       "      <td>152</td>\n",
       "      <td>194</td>\n",
       "      <td>210.0</td>\n",
       "      <td>222.0</td>\n",
       "      <td>...</td>\n",
       "      <td>NaN</td>\n",
       "      <td>NaN</td>\n",
       "      <td>NaN</td>\n",
       "      <td>NaN</td>\n",
       "      <td>NaN</td>\n",
       "      <td>NaN</td>\n",
       "      <td>NaN</td>\n",
       "      <td>NaN</td>\n",
       "      <td>NaN</td>\n",
       "      <td>NaN</td>\n",
       "    </tr>\n",
       "    <tr>\n",
       "      <th>1</th>\n",
       "      <td>19</td>\n",
       "      <td>33</td>\n",
       "      <td>61</td>\n",
       "      <td>64</td>\n",
       "      <td>84</td>\n",
       "      <td>90</td>\n",
       "      <td>114</td>\n",
       "      <td>128</td>\n",
       "      <td>134.0</td>\n",
       "      <td>136.0</td>\n",
       "      <td>...</td>\n",
       "      <td>NaN</td>\n",
       "      <td>NaN</td>\n",
       "      <td>NaN</td>\n",
       "      <td>NaN</td>\n",
       "      <td>NaN</td>\n",
       "      <td>NaN</td>\n",
       "      <td>NaN</td>\n",
       "      <td>NaN</td>\n",
       "      <td>NaN</td>\n",
       "      <td>NaN</td>\n",
       "    </tr>\n",
       "    <tr>\n",
       "      <th>2</th>\n",
       "      <td>1</td>\n",
       "      <td>25</td>\n",
       "      <td>64</td>\n",
       "      <td>73</td>\n",
       "      <td>80</td>\n",
       "      <td>90</td>\n",
       "      <td>105</td>\n",
       "      <td>117</td>\n",
       "      <td>136.0</td>\n",
       "      <td>169.0</td>\n",
       "      <td>...</td>\n",
       "      <td>NaN</td>\n",
       "      <td>NaN</td>\n",
       "      <td>NaN</td>\n",
       "      <td>NaN</td>\n",
       "      <td>NaN</td>\n",
       "      <td>NaN</td>\n",
       "      <td>NaN</td>\n",
       "      <td>NaN</td>\n",
       "      <td>NaN</td>\n",
       "      <td>NaN</td>\n",
       "    </tr>\n",
       "    <tr>\n",
       "      <th>3</th>\n",
       "      <td>64</td>\n",
       "      <td>73</td>\n",
       "      <td>80</td>\n",
       "      <td>90</td>\n",
       "      <td>105</td>\n",
       "      <td>136</td>\n",
       "      <td>175</td>\n",
       "      <td>204</td>\n",
       "      <td>231.0</td>\n",
       "      <td>233.0</td>\n",
       "      <td>...</td>\n",
       "      <td>NaN</td>\n",
       "      <td>NaN</td>\n",
       "      <td>NaN</td>\n",
       "      <td>NaN</td>\n",
       "      <td>NaN</td>\n",
       "      <td>NaN</td>\n",
       "      <td>NaN</td>\n",
       "      <td>NaN</td>\n",
       "      <td>NaN</td>\n",
       "      <td>NaN</td>\n",
       "    </tr>\n",
       "    <tr>\n",
       "      <th>4</th>\n",
       "      <td>26</td>\n",
       "      <td>33</td>\n",
       "      <td>80</td>\n",
       "      <td>90</td>\n",
       "      <td>114</td>\n",
       "      <td>121</td>\n",
       "      <td>128</td>\n",
       "      <td>140</td>\n",
       "      <td>163.0</td>\n",
       "      <td>197.0</td>\n",
       "      <td>...</td>\n",
       "      <td>NaN</td>\n",
       "      <td>NaN</td>\n",
       "      <td>NaN</td>\n",
       "      <td>NaN</td>\n",
       "      <td>NaN</td>\n",
       "      <td>NaN</td>\n",
       "      <td>NaN</td>\n",
       "      <td>NaN</td>\n",
       "      <td>NaN</td>\n",
       "      <td>NaN</td>\n",
       "    </tr>\n",
       "  </tbody>\n",
       "</table>\n",
       "<p>5 rows × 82 columns</p>\n",
       "</div>"
      ],
      "text/plain": [
       "   mfp.bits[0]  mfp.bits[1]  mfp.bits[2]  mfp.bits[3]  mfp.bits[4]  \\\n",
       "0           71           75           80           90          128   \n",
       "1           19           33           61           64           84   \n",
       "2            1           25           64           73           80   \n",
       "3           64           73           80           90          105   \n",
       "4           26           33           80           90          114   \n",
       "\n",
       "   mfp.bits[5]  mfp.bits[6]  mfp.bits[7]  mfp.bits[8]  mfp.bits[9]  ...  \\\n",
       "0          147          152          194        210.0        222.0  ...   \n",
       "1           90          114          128        134.0        136.0  ...   \n",
       "2           90          105          117        136.0        169.0  ...   \n",
       "3          136          175          204        231.0        233.0  ...   \n",
       "4          121          128          140        163.0        197.0  ...   \n",
       "\n",
       "   mfp.bits[72]  mfp.bits[73]  mfp.bits[74]  mfp.bits[75]  mfp.bits[76]  \\\n",
       "0           NaN           NaN           NaN           NaN           NaN   \n",
       "1           NaN           NaN           NaN           NaN           NaN   \n",
       "2           NaN           NaN           NaN           NaN           NaN   \n",
       "3           NaN           NaN           NaN           NaN           NaN   \n",
       "4           NaN           NaN           NaN           NaN           NaN   \n",
       "\n",
       "   mfp.bits[77]  mfp.bits[78]  mfp.bits[79]  mfp.bits[80]  mfp.bits[81]  \n",
       "0           NaN           NaN           NaN           NaN           NaN  \n",
       "1           NaN           NaN           NaN           NaN           NaN  \n",
       "2           NaN           NaN           NaN           NaN           NaN  \n",
       "3           NaN           NaN           NaN           NaN           NaN  \n",
       "4           NaN           NaN           NaN           NaN           NaN  \n",
       "\n",
       "[5 rows x 82 columns]"
      ]
     },
     "execution_count": 240,
     "metadata": {},
     "output_type": "execute_result"
    }
   ],
   "source": [
    "X.head()"
   ]
  },
  {
   "cell_type": "markdown",
   "id": "3f4c0c51-3f90-41a8-80f9-40547cdfc969",
   "metadata": {},
   "source": [
    "### Remarque :\n",
    "Comme on peut le remarquer dans l'affichage précédent, il y a des colonnes qui contient des valeurs manquantes (NaN). Pour avoir une idée sur ces colonnes, on peut exécuter ce script :"
   ]
  },
  {
   "cell_type": "code",
   "execution_count": 242,
   "id": "67c6a4c1-df19-4547-bf7c-aa4f7fae3f2c",
   "metadata": {},
   "outputs": [
    {
     "data": {
      "text/plain": [
       "mfp.bits[0]      0\n",
       "mfp.bits[1]      0\n",
       "mfp.bits[2]      0\n",
       "mfp.bits[3]      0\n",
       "mfp.bits[4]      0\n",
       "                ..\n",
       "mfp.bits[77]    80\n",
       "mfp.bits[78]    80\n",
       "mfp.bits[79]    80\n",
       "mfp.bits[80]    81\n",
       "mfp.bits[81]    81\n",
       "Length: 82, dtype: int64"
      ]
     },
     "execution_count": 242,
     "metadata": {},
     "output_type": "execute_result"
    }
   ],
   "source": [
    "X.isna().sum()"
   ]
  },
  {
   "cell_type": "markdown",
   "id": "df0c662d-c581-41ee-a564-548d3f6382d9",
   "metadata": {},
   "source": [
    "Dans le résultat précédent, on voit que la colonne 'mfp.bits[77]' contient 80 valeurs manquantes."
   ]
  },
  {
   "cell_type": "code",
   "execution_count": 244,
   "id": "43fdd57a-4a04-4ddc-b250-059fb4094f5a",
   "metadata": {},
   "outputs": [
    {
     "data": {
      "text/plain": [
       "0    0\n",
       "1    0\n",
       "2    0\n",
       "3    0\n",
       "4    0\n",
       "Name: class, dtype: int64"
      ]
     },
     "execution_count": 244,
     "metadata": {},
     "output_type": "execute_result"
    }
   ],
   "source": [
    "y.head()"
   ]
  },
  {
   "cell_type": "markdown",
   "id": "4a645e87-b910-48b7-8ec3-94754f6487e3",
   "metadata": {},
   "source": [
    "## Entrainement et test de la machine"
   ]
  },
  {
   "cell_type": "markdown",
   "id": "af6629b3-af8b-453a-a6e5-fadd48eb3e88",
   "metadata": {},
   "source": [
    "Une fois que nous avons préparé les données, on va diviser les données en une partie qui sera utilisée dans l'entraînement et partie pour le test"
   ]
  },
  {
   "cell_type": "code",
   "execution_count": 247,
   "id": "33965fdf-1c5e-4b23-9043-dfd3f8daa87b",
   "metadata": {},
   "outputs": [
    {
     "data": {
      "text/plain": [
       "((65, 82), (17, 82))"
      ]
     },
     "execution_count": 247,
     "metadata": {},
     "output_type": "execute_result"
    }
   ],
   "source": [
    "Xtrain, Xtest, ytrain, ytest = train_test_split(X,y, train_size=.8, shuffle=True)\n",
    "Xtrain.shape,Xtest.shape"
   ]
  },
  {
   "cell_type": "markdown",
   "id": "273d737b-f3ad-4711-aa5b-5e5c4694494c",
   "metadata": {},
   "source": [
    "Pour l'entraînement de la machine, nous avons deux types d'algorithmes :\n",
    "\n",
    "- ceux qui supportent le valeurs NaN dans le dataset : HistGradientBoosting, \n",
    "- ceux ne supportent pas de valeurs NaN : LogisticRegression, SVM, KNN, ..."
   ]
  },
  {
   "cell_type": "markdown",
   "id": "8d52197f-e0d8-4eb9-8fda-3be3c497c0ab",
   "metadata": {},
   "source": [
    "### Classification avec HistGradientBoosting"
   ]
  },
  {
   "cell_type": "markdown",
   "id": "548cb343-03f0-4a55-bd98-d1f3a19e5c41",
   "metadata": {},
   "source": [
    "Nous allons commencer par HistGradientBoosting. Cet algorithme supporte les valeurs NaN. Donc on n'a besoin d'aucun traitement supplémentaire sur notre dataset :"
   ]
  },
  {
   "cell_type": "code",
   "execution_count": 251,
   "id": "a56014cd-5109-4bf7-9de4-3695095869f1",
   "metadata": {},
   "outputs": [
    {
     "data": {
      "text/html": [
       "<style>#sk-container-id-3 {\n",
       "  /* Definition of color scheme common for light and dark mode */\n",
       "  --sklearn-color-text: #000;\n",
       "  --sklearn-color-text-muted: #666;\n",
       "  --sklearn-color-line: gray;\n",
       "  /* Definition of color scheme for unfitted estimators */\n",
       "  --sklearn-color-unfitted-level-0: #fff5e6;\n",
       "  --sklearn-color-unfitted-level-1: #f6e4d2;\n",
       "  --sklearn-color-unfitted-level-2: #ffe0b3;\n",
       "  --sklearn-color-unfitted-level-3: chocolate;\n",
       "  /* Definition of color scheme for fitted estimators */\n",
       "  --sklearn-color-fitted-level-0: #f0f8ff;\n",
       "  --sklearn-color-fitted-level-1: #d4ebff;\n",
       "  --sklearn-color-fitted-level-2: #b3dbfd;\n",
       "  --sklearn-color-fitted-level-3: cornflowerblue;\n",
       "\n",
       "  /* Specific color for light theme */\n",
       "  --sklearn-color-text-on-default-background: var(--sg-text-color, var(--theme-code-foreground, var(--jp-content-font-color1, black)));\n",
       "  --sklearn-color-background: var(--sg-background-color, var(--theme-background, var(--jp-layout-color0, white)));\n",
       "  --sklearn-color-border-box: var(--sg-text-color, var(--theme-code-foreground, var(--jp-content-font-color1, black)));\n",
       "  --sklearn-color-icon: #696969;\n",
       "\n",
       "  @media (prefers-color-scheme: dark) {\n",
       "    /* Redefinition of color scheme for dark theme */\n",
       "    --sklearn-color-text-on-default-background: var(--sg-text-color, var(--theme-code-foreground, var(--jp-content-font-color1, white)));\n",
       "    --sklearn-color-background: var(--sg-background-color, var(--theme-background, var(--jp-layout-color0, #111)));\n",
       "    --sklearn-color-border-box: var(--sg-text-color, var(--theme-code-foreground, var(--jp-content-font-color1, white)));\n",
       "    --sklearn-color-icon: #878787;\n",
       "  }\n",
       "}\n",
       "\n",
       "#sk-container-id-3 {\n",
       "  color: var(--sklearn-color-text);\n",
       "}\n",
       "\n",
       "#sk-container-id-3 pre {\n",
       "  padding: 0;\n",
       "}\n",
       "\n",
       "#sk-container-id-3 input.sk-hidden--visually {\n",
       "  border: 0;\n",
       "  clip: rect(1px 1px 1px 1px);\n",
       "  clip: rect(1px, 1px, 1px, 1px);\n",
       "  height: 1px;\n",
       "  margin: -1px;\n",
       "  overflow: hidden;\n",
       "  padding: 0;\n",
       "  position: absolute;\n",
       "  width: 1px;\n",
       "}\n",
       "\n",
       "#sk-container-id-3 div.sk-dashed-wrapped {\n",
       "  border: 1px dashed var(--sklearn-color-line);\n",
       "  margin: 0 0.4em 0.5em 0.4em;\n",
       "  box-sizing: border-box;\n",
       "  padding-bottom: 0.4em;\n",
       "  background-color: var(--sklearn-color-background);\n",
       "}\n",
       "\n",
       "#sk-container-id-3 div.sk-container {\n",
       "  /* jupyter's `normalize.less` sets `[hidden] { display: none; }`\n",
       "     but bootstrap.min.css set `[hidden] { display: none !important; }`\n",
       "     so we also need the `!important` here to be able to override the\n",
       "     default hidden behavior on the sphinx rendered scikit-learn.org.\n",
       "     See: https://github.com/scikit-learn/scikit-learn/issues/21755 */\n",
       "  display: inline-block !important;\n",
       "  position: relative;\n",
       "}\n",
       "\n",
       "#sk-container-id-3 div.sk-text-repr-fallback {\n",
       "  display: none;\n",
       "}\n",
       "\n",
       "div.sk-parallel-item,\n",
       "div.sk-serial,\n",
       "div.sk-item {\n",
       "  /* draw centered vertical line to link estimators */\n",
       "  background-image: linear-gradient(var(--sklearn-color-text-on-default-background), var(--sklearn-color-text-on-default-background));\n",
       "  background-size: 2px 100%;\n",
       "  background-repeat: no-repeat;\n",
       "  background-position: center center;\n",
       "}\n",
       "\n",
       "/* Parallel-specific style estimator block */\n",
       "\n",
       "#sk-container-id-3 div.sk-parallel-item::after {\n",
       "  content: \"\";\n",
       "  width: 100%;\n",
       "  border-bottom: 2px solid var(--sklearn-color-text-on-default-background);\n",
       "  flex-grow: 1;\n",
       "}\n",
       "\n",
       "#sk-container-id-3 div.sk-parallel {\n",
       "  display: flex;\n",
       "  align-items: stretch;\n",
       "  justify-content: center;\n",
       "  background-color: var(--sklearn-color-background);\n",
       "  position: relative;\n",
       "}\n",
       "\n",
       "#sk-container-id-3 div.sk-parallel-item {\n",
       "  display: flex;\n",
       "  flex-direction: column;\n",
       "}\n",
       "\n",
       "#sk-container-id-3 div.sk-parallel-item:first-child::after {\n",
       "  align-self: flex-end;\n",
       "  width: 50%;\n",
       "}\n",
       "\n",
       "#sk-container-id-3 div.sk-parallel-item:last-child::after {\n",
       "  align-self: flex-start;\n",
       "  width: 50%;\n",
       "}\n",
       "\n",
       "#sk-container-id-3 div.sk-parallel-item:only-child::after {\n",
       "  width: 0;\n",
       "}\n",
       "\n",
       "/* Serial-specific style estimator block */\n",
       "\n",
       "#sk-container-id-3 div.sk-serial {\n",
       "  display: flex;\n",
       "  flex-direction: column;\n",
       "  align-items: center;\n",
       "  background-color: var(--sklearn-color-background);\n",
       "  padding-right: 1em;\n",
       "  padding-left: 1em;\n",
       "}\n",
       "\n",
       "\n",
       "/* Toggleable style: style used for estimator/Pipeline/ColumnTransformer box that is\n",
       "clickable and can be expanded/collapsed.\n",
       "- Pipeline and ColumnTransformer use this feature and define the default style\n",
       "- Estimators will overwrite some part of the style using the `sk-estimator` class\n",
       "*/\n",
       "\n",
       "/* Pipeline and ColumnTransformer style (default) */\n",
       "\n",
       "#sk-container-id-3 div.sk-toggleable {\n",
       "  /* Default theme specific background. It is overwritten whether we have a\n",
       "  specific estimator or a Pipeline/ColumnTransformer */\n",
       "  background-color: var(--sklearn-color-background);\n",
       "}\n",
       "\n",
       "/* Toggleable label */\n",
       "#sk-container-id-3 label.sk-toggleable__label {\n",
       "  cursor: pointer;\n",
       "  display: flex;\n",
       "  width: 100%;\n",
       "  margin-bottom: 0;\n",
       "  padding: 0.5em;\n",
       "  box-sizing: border-box;\n",
       "  text-align: center;\n",
       "  align-items: start;\n",
       "  justify-content: space-between;\n",
       "  gap: 0.5em;\n",
       "}\n",
       "\n",
       "#sk-container-id-3 label.sk-toggleable__label .caption {\n",
       "  font-size: 0.6rem;\n",
       "  font-weight: lighter;\n",
       "  color: var(--sklearn-color-text-muted);\n",
       "}\n",
       "\n",
       "#sk-container-id-3 label.sk-toggleable__label-arrow:before {\n",
       "  /* Arrow on the left of the label */\n",
       "  content: \"▸\";\n",
       "  float: left;\n",
       "  margin-right: 0.25em;\n",
       "  color: var(--sklearn-color-icon);\n",
       "}\n",
       "\n",
       "#sk-container-id-3 label.sk-toggleable__label-arrow:hover:before {\n",
       "  color: var(--sklearn-color-text);\n",
       "}\n",
       "\n",
       "/* Toggleable content - dropdown */\n",
       "\n",
       "#sk-container-id-3 div.sk-toggleable__content {\n",
       "  max-height: 0;\n",
       "  max-width: 0;\n",
       "  overflow: hidden;\n",
       "  text-align: left;\n",
       "  /* unfitted */\n",
       "  background-color: var(--sklearn-color-unfitted-level-0);\n",
       "}\n",
       "\n",
       "#sk-container-id-3 div.sk-toggleable__content.fitted {\n",
       "  /* fitted */\n",
       "  background-color: var(--sklearn-color-fitted-level-0);\n",
       "}\n",
       "\n",
       "#sk-container-id-3 div.sk-toggleable__content pre {\n",
       "  margin: 0.2em;\n",
       "  border-radius: 0.25em;\n",
       "  color: var(--sklearn-color-text);\n",
       "  /* unfitted */\n",
       "  background-color: var(--sklearn-color-unfitted-level-0);\n",
       "}\n",
       "\n",
       "#sk-container-id-3 div.sk-toggleable__content.fitted pre {\n",
       "  /* unfitted */\n",
       "  background-color: var(--sklearn-color-fitted-level-0);\n",
       "}\n",
       "\n",
       "#sk-container-id-3 input.sk-toggleable__control:checked~div.sk-toggleable__content {\n",
       "  /* Expand drop-down */\n",
       "  max-height: 200px;\n",
       "  max-width: 100%;\n",
       "  overflow: auto;\n",
       "}\n",
       "\n",
       "#sk-container-id-3 input.sk-toggleable__control:checked~label.sk-toggleable__label-arrow:before {\n",
       "  content: \"▾\";\n",
       "}\n",
       "\n",
       "/* Pipeline/ColumnTransformer-specific style */\n",
       "\n",
       "#sk-container-id-3 div.sk-label input.sk-toggleable__control:checked~label.sk-toggleable__label {\n",
       "  color: var(--sklearn-color-text);\n",
       "  background-color: var(--sklearn-color-unfitted-level-2);\n",
       "}\n",
       "\n",
       "#sk-container-id-3 div.sk-label.fitted input.sk-toggleable__control:checked~label.sk-toggleable__label {\n",
       "  background-color: var(--sklearn-color-fitted-level-2);\n",
       "}\n",
       "\n",
       "/* Estimator-specific style */\n",
       "\n",
       "/* Colorize estimator box */\n",
       "#sk-container-id-3 div.sk-estimator input.sk-toggleable__control:checked~label.sk-toggleable__label {\n",
       "  /* unfitted */\n",
       "  background-color: var(--sklearn-color-unfitted-level-2);\n",
       "}\n",
       "\n",
       "#sk-container-id-3 div.sk-estimator.fitted input.sk-toggleable__control:checked~label.sk-toggleable__label {\n",
       "  /* fitted */\n",
       "  background-color: var(--sklearn-color-fitted-level-2);\n",
       "}\n",
       "\n",
       "#sk-container-id-3 div.sk-label label.sk-toggleable__label,\n",
       "#sk-container-id-3 div.sk-label label {\n",
       "  /* The background is the default theme color */\n",
       "  color: var(--sklearn-color-text-on-default-background);\n",
       "}\n",
       "\n",
       "/* On hover, darken the color of the background */\n",
       "#sk-container-id-3 div.sk-label:hover label.sk-toggleable__label {\n",
       "  color: var(--sklearn-color-text);\n",
       "  background-color: var(--sklearn-color-unfitted-level-2);\n",
       "}\n",
       "\n",
       "/* Label box, darken color on hover, fitted */\n",
       "#sk-container-id-3 div.sk-label.fitted:hover label.sk-toggleable__label.fitted {\n",
       "  color: var(--sklearn-color-text);\n",
       "  background-color: var(--sklearn-color-fitted-level-2);\n",
       "}\n",
       "\n",
       "/* Estimator label */\n",
       "\n",
       "#sk-container-id-3 div.sk-label label {\n",
       "  font-family: monospace;\n",
       "  font-weight: bold;\n",
       "  display: inline-block;\n",
       "  line-height: 1.2em;\n",
       "}\n",
       "\n",
       "#sk-container-id-3 div.sk-label-container {\n",
       "  text-align: center;\n",
       "}\n",
       "\n",
       "/* Estimator-specific */\n",
       "#sk-container-id-3 div.sk-estimator {\n",
       "  font-family: monospace;\n",
       "  border: 1px dotted var(--sklearn-color-border-box);\n",
       "  border-radius: 0.25em;\n",
       "  box-sizing: border-box;\n",
       "  margin-bottom: 0.5em;\n",
       "  /* unfitted */\n",
       "  background-color: var(--sklearn-color-unfitted-level-0);\n",
       "}\n",
       "\n",
       "#sk-container-id-3 div.sk-estimator.fitted {\n",
       "  /* fitted */\n",
       "  background-color: var(--sklearn-color-fitted-level-0);\n",
       "}\n",
       "\n",
       "/* on hover */\n",
       "#sk-container-id-3 div.sk-estimator:hover {\n",
       "  /* unfitted */\n",
       "  background-color: var(--sklearn-color-unfitted-level-2);\n",
       "}\n",
       "\n",
       "#sk-container-id-3 div.sk-estimator.fitted:hover {\n",
       "  /* fitted */\n",
       "  background-color: var(--sklearn-color-fitted-level-2);\n",
       "}\n",
       "\n",
       "/* Specification for estimator info (e.g. \"i\" and \"?\") */\n",
       "\n",
       "/* Common style for \"i\" and \"?\" */\n",
       "\n",
       ".sk-estimator-doc-link,\n",
       "a:link.sk-estimator-doc-link,\n",
       "a:visited.sk-estimator-doc-link {\n",
       "  float: right;\n",
       "  font-size: smaller;\n",
       "  line-height: 1em;\n",
       "  font-family: monospace;\n",
       "  background-color: var(--sklearn-color-background);\n",
       "  border-radius: 1em;\n",
       "  height: 1em;\n",
       "  width: 1em;\n",
       "  text-decoration: none !important;\n",
       "  margin-left: 0.5em;\n",
       "  text-align: center;\n",
       "  /* unfitted */\n",
       "  border: var(--sklearn-color-unfitted-level-1) 1pt solid;\n",
       "  color: var(--sklearn-color-unfitted-level-1);\n",
       "}\n",
       "\n",
       ".sk-estimator-doc-link.fitted,\n",
       "a:link.sk-estimator-doc-link.fitted,\n",
       "a:visited.sk-estimator-doc-link.fitted {\n",
       "  /* fitted */\n",
       "  border: var(--sklearn-color-fitted-level-1) 1pt solid;\n",
       "  color: var(--sklearn-color-fitted-level-1);\n",
       "}\n",
       "\n",
       "/* On hover */\n",
       "div.sk-estimator:hover .sk-estimator-doc-link:hover,\n",
       ".sk-estimator-doc-link:hover,\n",
       "div.sk-label-container:hover .sk-estimator-doc-link:hover,\n",
       ".sk-estimator-doc-link:hover {\n",
       "  /* unfitted */\n",
       "  background-color: var(--sklearn-color-unfitted-level-3);\n",
       "  color: var(--sklearn-color-background);\n",
       "  text-decoration: none;\n",
       "}\n",
       "\n",
       "div.sk-estimator.fitted:hover .sk-estimator-doc-link.fitted:hover,\n",
       ".sk-estimator-doc-link.fitted:hover,\n",
       "div.sk-label-container:hover .sk-estimator-doc-link.fitted:hover,\n",
       ".sk-estimator-doc-link.fitted:hover {\n",
       "  /* fitted */\n",
       "  background-color: var(--sklearn-color-fitted-level-3);\n",
       "  color: var(--sklearn-color-background);\n",
       "  text-decoration: none;\n",
       "}\n",
       "\n",
       "/* Span, style for the box shown on hovering the info icon */\n",
       ".sk-estimator-doc-link span {\n",
       "  display: none;\n",
       "  z-index: 9999;\n",
       "  position: relative;\n",
       "  font-weight: normal;\n",
       "  right: .2ex;\n",
       "  padding: .5ex;\n",
       "  margin: .5ex;\n",
       "  width: min-content;\n",
       "  min-width: 20ex;\n",
       "  max-width: 50ex;\n",
       "  color: var(--sklearn-color-text);\n",
       "  box-shadow: 2pt 2pt 4pt #999;\n",
       "  /* unfitted */\n",
       "  background: var(--sklearn-color-unfitted-level-0);\n",
       "  border: .5pt solid var(--sklearn-color-unfitted-level-3);\n",
       "}\n",
       "\n",
       ".sk-estimator-doc-link.fitted span {\n",
       "  /* fitted */\n",
       "  background: var(--sklearn-color-fitted-level-0);\n",
       "  border: var(--sklearn-color-fitted-level-3);\n",
       "}\n",
       "\n",
       ".sk-estimator-doc-link:hover span {\n",
       "  display: block;\n",
       "}\n",
       "\n",
       "/* \"?\"-specific style due to the `<a>` HTML tag */\n",
       "\n",
       "#sk-container-id-3 a.estimator_doc_link {\n",
       "  float: right;\n",
       "  font-size: 1rem;\n",
       "  line-height: 1em;\n",
       "  font-family: monospace;\n",
       "  background-color: var(--sklearn-color-background);\n",
       "  border-radius: 1rem;\n",
       "  height: 1rem;\n",
       "  width: 1rem;\n",
       "  text-decoration: none;\n",
       "  /* unfitted */\n",
       "  color: var(--sklearn-color-unfitted-level-1);\n",
       "  border: var(--sklearn-color-unfitted-level-1) 1pt solid;\n",
       "}\n",
       "\n",
       "#sk-container-id-3 a.estimator_doc_link.fitted {\n",
       "  /* fitted */\n",
       "  border: var(--sklearn-color-fitted-level-1) 1pt solid;\n",
       "  color: var(--sklearn-color-fitted-level-1);\n",
       "}\n",
       "\n",
       "/* On hover */\n",
       "#sk-container-id-3 a.estimator_doc_link:hover {\n",
       "  /* unfitted */\n",
       "  background-color: var(--sklearn-color-unfitted-level-3);\n",
       "  color: var(--sklearn-color-background);\n",
       "  text-decoration: none;\n",
       "}\n",
       "\n",
       "#sk-container-id-3 a.estimator_doc_link.fitted:hover {\n",
       "  /* fitted */\n",
       "  background-color: var(--sklearn-color-fitted-level-3);\n",
       "}\n",
       "</style><div id=\"sk-container-id-3\" class=\"sk-top-container\"><div class=\"sk-text-repr-fallback\"><pre>HistGradientBoostingClassifier()</pre><b>In a Jupyter environment, please rerun this cell to show the HTML representation or trust the notebook. <br />On GitHub, the HTML representation is unable to render, please try loading this page with nbviewer.org.</b></div><div class=\"sk-container\" hidden><div class=\"sk-item\"><div class=\"sk-estimator fitted sk-toggleable\"><input class=\"sk-toggleable__control sk-hidden--visually\" id=\"sk-estimator-id-3\" type=\"checkbox\" checked><label for=\"sk-estimator-id-3\" class=\"sk-toggleable__label fitted sk-toggleable__label-arrow\"><div><div>HistGradientBoostingClassifier</div></div><div><a class=\"sk-estimator-doc-link fitted\" rel=\"noreferrer\" target=\"_blank\" href=\"https://scikit-learn.org/1.6/modules/generated/sklearn.ensemble.HistGradientBoostingClassifier.html\">?<span>Documentation for HistGradientBoostingClassifier</span></a><span class=\"sk-estimator-doc-link fitted\">i<span>Fitted</span></span></div></label><div class=\"sk-toggleable__content fitted\"><pre>HistGradientBoostingClassifier()</pre></div> </div></div></div></div>"
      ],
      "text/plain": [
       "HistGradientBoostingClassifier()"
      ]
     },
     "execution_count": 251,
     "metadata": {},
     "output_type": "execute_result"
    }
   ],
   "source": [
    "model1 = HistGradientBoostingClassifier()\n",
    "model1.fit(Xtrain, ytrain)  # X_train peut contenir des NaN"
   ]
  },
  {
   "cell_type": "markdown",
   "id": "4123b34d-6755-43d2-b8a4-55f6df42260c",
   "metadata": {},
   "source": [
    "Une fois que nous avons entraîner notre modèle, on peut le tester pour voir sa performance "
   ]
  },
  {
   "cell_type": "code",
   "execution_count": 253,
   "id": "cf0f10bd-825d-4c39-9779-19838dbfd7d2",
   "metadata": {},
   "outputs": [],
   "source": [
    "ypred = model1.predict(Xtest)"
   ]
  },
  {
   "cell_type": "code",
   "execution_count": 254,
   "id": "16631f31-927b-479d-b8c4-85a6594064c3",
   "metadata": {},
   "outputs": [
    {
     "name": "stdout",
     "output_type": "stream",
     "text": [
      "Accuracy : 0.6470588235294118\n"
     ]
    }
   ],
   "source": [
    "print(\"Accuracy :\",accuracy_score(ytest, ypred))"
   ]
  },
  {
   "cell_type": "markdown",
   "id": "b9144d31-6253-4e7d-8ca8-3becd8e40529",
   "metadata": {},
   "source": [
    "Le GMEAN est souvent utilisé dans les problèmes de classification avec un dasaet désequilibré (unbalanced dataset), où l'accuracy traditionnelle peut être trompeuse. Il permet de s'assurer que le modèle ne favorise pas une classe au détriment de l'autre."
   ]
  },
  {
   "cell_type": "code",
   "execution_count": 256,
   "id": "13a12aff-84d3-4954-9a6e-bfbb80b87dd6",
   "metadata": {},
   "outputs": [
    {
     "name": "stdout",
     "output_type": "stream",
     "text": [
      "GMean : 0.6324555320336758\n"
     ]
    }
   ],
   "source": [
    "# Calcul de GMean\n",
    "gmean = geometric_mean_score(ytest, ypred)\n",
    "print(\"GMean :\", gmean)"
   ]
  },
  {
   "cell_type": "markdown",
   "id": "2d23a14f-e5fc-4412-b522-8f74d4a5ecd7",
   "metadata": {},
   "source": [
    "En ce qui concerne le score de Kappa :\n",
    "\n",
    "- < 0\tDésaccord total\n",
    "\n",
    "- 0 – 0.20\tAccord faible\n",
    "\n",
    "- 0.21 – 0.40\tAccord moyen\n",
    "\n",
    "- 0.41 – 0.60\tAccord modéré\n",
    "\n",
    "- 0.61 – 0.80\tAccord fort\n",
    "\n",
    "- 0.81 – 1.00\tAccord presque parfait"
   ]
  },
  {
   "cell_type": "code",
   "execution_count": 258,
   "id": "32a3495b-be98-4d60-9187-672fa90ff93e",
   "metadata": {},
   "outputs": [
    {
     "name": "stdout",
     "output_type": "stream",
     "text": [
      "Kappa de Cohen : 0.27142857142857135\n"
     ]
    }
   ],
   "source": [
    "# Calcul de Kappa\n",
    "kappa = cohen_kappa_score(ytest, ypred)\n",
    "print(\"Kappa de Cohen :\", kappa)"
   ]
  },
  {
   "cell_type": "markdown",
   "id": "6d6c5ebe-c5e3-4963-bfb1-8a00092518f7",
   "metadata": {},
   "source": [
    "AUC (Area Under Curve) : aire sous cette courbe ROC, variant entre 0 et 1 :\n",
    "\n",
    "En général :\n",
    "\n",
    "- AUC > 0.9 : Excellent.\n",
    "\n",
    "- AUC entre 0.8 et 0.9 : Bon.\n",
    "\n",
    "- AUC entre 0.7 et 0.8 : Acceptable.\n",
    "\n",
    "- AUC entre 0.5 et 0.7 : Faible.\n",
    "\n",
    "- AUC = 0.5 : Inutile."
   ]
  },
  {
   "cell_type": "code",
   "execution_count": 260,
   "id": "e8ddc67e-8556-437c-b3da-b9016d3ddb18",
   "metadata": {},
   "outputs": [
    {
     "name": "stdout",
     "output_type": "stream",
     "text": [
      "AUC-ROC : 0.5642857142857143\n"
     ]
    }
   ],
   "source": [
    "# Prédiction des probabilités\n",
    "yscores = model1.predict_proba(Xtest)[:, 1]  # On prend la colonne des probabilités pour la classe 1\n",
    "\n",
    "# Calcul de AUROC\n",
    "auc = roc_auc_score(ytest, yscores)\n",
    "print(\"AUC-ROC :\", auc)"
   ]
  },
  {
   "cell_type": "markdown",
   "id": "aad1b7f1-20cf-48a7-83e8-55283d9f7073",
   "metadata": {},
   "source": [
    "### Classification avec LogisticRegression"
   ]
  },
  {
   "cell_type": "markdown",
   "id": "63fbd6e3-a823-4ae2-ac0f-799c113414fb",
   "metadata": {},
   "source": [
    "La Régression Logstique n'accepte pas les valeurs manquantes (NaN). Pour remédier à ce problème, nous avons plusieurs solutions, par exemple :\n",
    "\n",
    "- Solution 1 : Supprimer les lignes contenant des NaN\n",
    "\n",
    "- Solution 2 : Remplacer les NaN par une valeur appropriée (0, moyenne, valeur la plus fréquente, ...)"
   ]
  },
  {
   "cell_type": "markdown",
   "id": "bf2c7705-d48a-47bf-bbca-6d3894af8743",
   "metadata": {},
   "source": [
    "Nous allons choisir de remplacer les valeurs manquantes par la moyenne"
   ]
  },
  {
   "cell_type": "code",
   "execution_count": 264,
   "id": "f350d852-aaf5-4539-ab37-1899ed7b4968",
   "metadata": {},
   "outputs": [],
   "source": [
    "X.fillna(molecules.mean(), inplace=True)"
   ]
  },
  {
   "cell_type": "markdown",
   "id": "6bdced2d-137b-43c4-9f60-6532a015fcce",
   "metadata": {},
   "source": [
    "Essayons de tester que le dataset ne contient plus de valeurs NaN"
   ]
  },
  {
   "cell_type": "code",
   "execution_count": 320,
   "id": "e4c7c0d0-c0f1-4b4f-ba49-2e8fd45fa085",
   "metadata": {},
   "outputs": [
    {
     "data": {
      "text/plain": [
       "0"
      ]
     },
     "execution_count": 320,
     "metadata": {},
     "output_type": "execute_result"
    }
   ],
   "source": [
    "#Le nombre de valeurs NaN\n",
    "X.isna().sum().sum()"
   ]
  },
  {
   "cell_type": "code",
   "execution_count": 267,
   "id": "8add9804-9019-4c15-9c4c-f2800036a756",
   "metadata": {},
   "outputs": [
    {
     "data": {
      "text/plain": [
       "((65, 82), (17, 82))"
      ]
     },
     "execution_count": 267,
     "metadata": {},
     "output_type": "execute_result"
    }
   ],
   "source": [
    "Xtrain, Xtest, ytrain, ytest = train_test_split(X,y, train_size=.8, shuffle=True)\n",
    "Xtrain.shape,Xtest.shape"
   ]
  },
  {
   "cell_type": "code",
   "execution_count": 268,
   "id": "bb0a386d-59cb-4f47-8081-275bca167646",
   "metadata": {},
   "outputs": [],
   "source": [
    "model2 = LogisticRegression()"
   ]
  },
  {
   "cell_type": "code",
   "execution_count": 269,
   "id": "823b0975-4f57-4ae6-b500-8123ad96b445",
   "metadata": {},
   "outputs": [],
   "source": [
    "ypred = model1.predict(Xtest)"
   ]
  },
  {
   "cell_type": "code",
   "execution_count": 270,
   "id": "2ebb2ad7-5fec-4432-9f13-4b47a8aa5bec",
   "metadata": {},
   "outputs": [
    {
     "name": "stdout",
     "output_type": "stream",
     "text": [
      "Accuracy: 0.9411764705882353\n"
     ]
    }
   ],
   "source": [
    "print(\"Accuracy:\",accuracy_score(ytest, ypred))"
   ]
  },
  {
   "cell_type": "code",
   "execution_count": 271,
   "id": "bb77bbc4-2841-4d78-8279-6f7b3a65794b",
   "metadata": {},
   "outputs": [
    {
     "name": "stdout",
     "output_type": "stream",
     "text": [
      "GMean : 0.9486832980505138\n"
     ]
    }
   ],
   "source": [
    "# Calcul de GMean\n",
    "gmean = geometric_mean_score(ytest, ypred)\n",
    "print(\"GMean :\", gmean)"
   ]
  },
  {
   "cell_type": "code",
   "execution_count": 272,
   "id": "354da8c9-5574-4510-9686-9953d544d4b8",
   "metadata": {},
   "outputs": [
    {
     "name": "stdout",
     "output_type": "stream",
     "text": [
      "Kappa de Cohen : 0.8811188811188811\n"
     ]
    }
   ],
   "source": [
    "# Calcul de Kappa\n",
    "kappa = cohen_kappa_score(ytest, ypred)\n",
    "print(\"Kappa de Cohen :\", kappa)"
   ]
  },
  {
   "cell_type": "code",
   "execution_count": 273,
   "id": "a966b916-17e9-40fb-a049-48470ad71717",
   "metadata": {},
   "outputs": [
    {
     "name": "stdout",
     "output_type": "stream",
     "text": [
      "AUC-ROC : 0.9285714285714286\n"
     ]
    }
   ],
   "source": [
    "# Prédiction des probabilités\n",
    "yscores = model1.predict_proba(Xtest)[:, 1]  # On prend la colonne des probabilités pour la classe 1\n",
    "\n",
    "# Calcul de AUROC\n",
    "auc = roc_auc_score(ytest, yscores)\n",
    "print(\"AUC-ROC :\", auc)"
   ]
  }
 ],
 "metadata": {
  "kernelspec": {
   "display_name": "Python [conda env:base] *",
   "language": "python",
   "name": "conda-base-py"
  },
  "language_info": {
   "codemirror_mode": {
    "name": "ipython",
    "version": 3
   },
   "file_extension": ".py",
   "mimetype": "text/x-python",
   "name": "python",
   "nbconvert_exporter": "python",
   "pygments_lexer": "ipython3",
   "version": "3.12.7"
  }
 },
 "nbformat": 4,
 "nbformat_minor": 5
}
